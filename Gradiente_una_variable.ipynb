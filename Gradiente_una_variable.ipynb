{
  "nbformat": 4,
  "nbformat_minor": 0,
  "metadata": {
    "colab": {
      "provenance": [],
      "include_colab_link": true
    },
    "kernelspec": {
      "name": "python3",
      "display_name": "Python 3"
    },
    "language_info": {
      "name": "python"
    }
  },
  "cells": [
    {
      "cell_type": "markdown",
      "metadata": {
        "id": "view-in-github",
        "colab_type": "text"
      },
      "source": [
        "<a href=\"https://colab.research.google.com/github/JoseAdrianRodriguezGonzalez/Colab/blob/main/Gradiente_una_variable.ipynb\" target=\"_parent\"><img src=\"https://colab.research.google.com/assets/colab-badge.svg\" alt=\"Open In Colab\"/></a>"
      ]
    },
    {
      "cell_type": "code",
      "execution_count": null,
      "metadata": {
        "id": "700Cz_dQEaTb"
      },
      "outputs": [],
      "source": [
        "#Se escoge primero un valor aleatorio\n",
        "#se evalua  este valor en la función ya derivada\n",
        "#Se escoge una tasa de aprendizaje\n",
        "#Para seguir encontando el valor x+af'(x) si es un máximo, pero si es un minimo es x-af'(x)"
      ]
    },
    {
      "cell_type": "code",
      "source": [
        "class Gradiente:  #Se crea una clase que permite hacer el gradiente\n",
        "  def __init__(self,Funciones=''):#Se crea el constructor por el que le pasaremos la dos funciones que necesitamos para derivar\n",
        "    if Funciones== 'Problem':#Busca si se escribió esta función\n",
        "      self.Funciones=Deriv_Problem#Se va a bucar la función\n",
        "    elif Funciones== 'Problema2': #Misma situación pero para el segundo problema\n",
        "      self.Funciones=Deriv_Problema\n",
        "  def fit(self,x,learning_rate,steps):\n",
        "    valor=0\n",
        "    nu=0\n",
        "    for i in range(steps):\n",
        "      if i==0:\n",
        "        valor=x+learning_rate*self.Funciones(x)\n",
        "      else:\n",
        "        nu=valor+learning_rate*self.Funciones(valor)\n",
        "        valor=nu\n",
        "      if(i+1)==steps:\n",
        "        return valor\n",
        "      print(valor)\n",
        "    #Falta colocar las iteraciones de la aroximacion\n",
        "def Deriv_Problem(x):#primer problema\n",
        "  return -1/5*x+550\n",
        "def Deriv_Problema(x):#segundo problema\n",
        "  return -1/5*x+400"
      ],
      "metadata": {
        "id": "UNTLdhr8Ecq4"
      },
      "execution_count": 1,
      "outputs": []
    },
    {
      "cell_type": "code",
      "source": [
        "val=Gradiente(Funciones='Problem')\n",
        "entrenamiento=val.fit(0.0001,0.9,50)# la función recibe dos parametros, el primero es el x inicial, el segundo es la tasa de aprendizaje y el tercero son la cantidad de veces que se repite\n",
        "print(entrenamiento)\n"
      ],
      "metadata": {
        "colab": {
          "base_uri": "https://localhost:8080/"
        },
        "id": "Of_QExOErAUY",
        "outputId": "b096314e-5f52-4783-eafe-4d8302a1dec3"
      },
      "execution_count": null,
      "outputs": [
        {
          "output_type": "stream",
          "name": "stdout",
          "text": [
            "495.000082\n",
            "900.90006724\n",
            "1233.7380551368\n",
            "1506.665205212176\n",
            "1730.4654682739842\n",
            "1913.9816839846671\n",
            "2064.464980867427\n",
            "2187.86128431129\n",
            "2289.0462531352578\n",
            "2372.0179275709115\n",
            "2440.0547006081474\n",
            "2495.844854498681\n",
            "2541.592780688918\n",
            "2579.106080164913\n",
            "2609.8669857352284\n",
            "2635.0909283028873\n",
            "2655.7745612083677\n",
            "2672.7351401908613\n",
            "2686.6428149565063\n",
            "2698.0471082643353\n",
            "2707.398628776755\n",
            "2715.066875596939\n",
            "2721.35483798949\n",
            "2726.510967151382\n",
            "2730.7389930641334\n",
            "2734.205974312589\n",
            "2737.048898936323\n",
            "2739.3800971277847\n",
            "2741.2916796447835\n",
            "2742.8591773087223\n",
            "2744.1445253931524\n",
            "2745.198510822385\n",
            "2746.0627788743554\n",
            "2746.7714786769716\n",
            "2747.3526125151166\n",
            "2747.8291422623956\n",
            "2748.2198966551646\n",
            "2748.540315257235\n",
            "2748.8030585109327\n",
            "2749.018507978965\n",
            "2749.195176542751\n",
            "2749.340044765056\n",
            "2749.458836707346\n",
            "2749.5562461000236\n",
            "2749.6361218020193\n",
            "2749.701619877656\n",
            "2749.755328299678\n",
            "2749.7993692057357\n",
            "2749.8354827487033\n",
            "2749.8650958539365\n"
          ]
        }
      ]
    },
    {
      "cell_type": "code",
      "source": [
        "Val2=Gradiente(Funciones='Problema2')\n",
        "entrenamiento2=Val2.fit(0.0001,0.9,50)\n",
        "print(entrenamiento2)"
      ],
      "metadata": {
        "id": "DCsG9UI43yBR",
        "colab": {
          "base_uri": "https://localhost:8080/"
        },
        "outputId": "f61b08f2-02fb-42d0-a24c-0feca997b1c5"
      },
      "execution_count": null,
      "outputs": [
        {
          "output_type": "stream",
          "name": "stdout",
          "text": [
            "360.00008199999996\n",
            "655.20006724\n",
            "897.2640551367999\n",
            "1095.756525212176\n",
            "1258.5203506739845\n",
            "1391.9866875526673\n",
            "1501.4290837931871\n",
            "1591.1718487104135\n",
            "1664.7609159425392\n",
            "1725.1039510728822\n",
            "1774.5852398797633\n",
            "1815.1598967014058\n",
            "1848.4311152951527\n",
            "1875.7135145420252\n",
            "1898.0850819244606\n",
            "1916.4297671780578\n",
            "1931.4724090860072\n",
            "1943.807375450526\n",
            "1953.9220478694313\n",
            "1962.2160792529337\n",
            "1969.0171849874057\n",
            "1974.5940916896727\n",
            "1979.1671551855316\n",
            "1982.917067252136\n",
            "1985.9919951467514\n",
            "1988.513436020336\n",
            "1990.5810175366755\n",
            "1992.2764343800739\n",
            "1993.6666761916606\n",
            "1994.8066744771618\n",
            "1995.7414730712726\n",
            "1996.5080079184436\n",
            "1997.1365664931236\n",
            "1997.6519845243613\n",
            "1998.0746273099762\n",
            "1998.4211943941805\n",
            "1998.7053794032279\n",
            "1998.938411110647\n",
            "1999.1294971107304\n",
            "1999.2861876307988\n",
            "1999.4146738572551\n",
            "1999.5200325629492\n",
            "1999.6064267016184\n",
            "1999.677269895327\n",
            "1999.7353613141681\n",
            "1999.7829962776177\n",
            "1999.8220569476466\n",
            "1999.8540866970702\n",
            "1999.8803510915975\n",
            "1999.90188789511\n"
          ]
        }
      ]
    }
  ]
}