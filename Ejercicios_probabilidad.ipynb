{
  "nbformat": 4,
  "nbformat_minor": 0,
  "metadata": {
    "colab": {
      "provenance": [],
      "authorship_tag": "ABX9TyMdhv9tLqCSEsP41GU2ibbt",
      "include_colab_link": true
    },
    "kernelspec": {
      "name": "python3",
      "display_name": "Python 3"
    },
    "language_info": {
      "name": "python"
    }
  },
  "cells": [
    {
      "cell_type": "markdown",
      "metadata": {
        "id": "view-in-github",
        "colab_type": "text"
      },
      "source": [
        "<a href=\"https://colab.research.google.com/github/JoseAdrianRodriguezGonzalez/Colab/blob/main/Ejercicios_probabilidad.ipynb\" target=\"_parent\"><img src=\"https://colab.research.google.com/assets/colab-badge.svg\" alt=\"Open In Colab\"/></a>"
      ]
    },
    {
      "cell_type": "markdown",
      "source": [
        "# Ejercicios de Probabilidad\n",
        "En esta sección se intentarán resolver todos los ejercicios que podemos encontrar en las diapostivas de *Probabilidad,conjuntos y ejercicios*\n",
        ">1.-problema\n",
        ">>Describa “S” del lanzamiento de tres monedas.\n",
        "\n",
        ">2.-problema\n",
        ">>Construya (utilizando un diagrama de árbol) el espacio muestral para familias\n",
        "con tres hijos en base al genero de los peques. En este ejemplo se considerará\n",
        "el caso más básico con solo 2 géneros. B= Boy y G = Girl.\n",
        "\n",
        ">3.-problema\n",
        ">>Describa “S” de lanzar 3 dados y anotar la suma."
      ],
      "metadata": {
        "id": "cN_13f1RAAWl"
      }
    },
    {
      "cell_type": "code",
      "execution_count": 95,
      "metadata": {
        "id": "H8Z44cQNqjxw"
      },
      "outputs": [],
      "source": [
        "#from ast import Num\n",
        "import numpy as np\n",
        "from itertools import product\n",
        "import itertools\n",
        "import scipy.stats\n",
        "from scipy import stats\n",
        "from matplotlib import pyplot as plt\n",
        "\n",
        "class MuestralSet:\n",
        "    def __init__(self, data=0):\n",
        "        self.data=value\n",
        "    def Product(self,x,Matrix):\n",
        "        return[v for v in itertools.product(Matrix,repeat=x)]\n",
        "    def Muestral(self,x):\n",
        "        return self.data(x)\n",
        "    def SetsDefinition(self,Matrix,x):\n",
        "        return Matrix*x\n",
        "def value(x):\n",
        "    return 2**x"
      ]
    },
    {
      "cell_type": "markdown",
      "source": [
        ">Este problema se puede resolver de dos formas, ya sea por diagrama de arbol o puede ser inclusive por el producto cartesiano, ya que permitirá encontrar todos los valores posibles de combinación:\n",
        "$S=\\{'sol','cara'\\} $\n",
        "Las posibles combinaciones entonces:\n",
        "$S^3$ ó $S x S x S$\n"
      ],
      "metadata": {
        "id": "5MGSVvQZSRul"
      }
    },
    {
      "cell_type": "code",
      "source": [
        "Producto=MuestralSet()\n",
        "SetCoins=['s','c']\n",
        "print(f'El espacio muestral es de {Producto.Muestral(3)} y la cantidad de combinacines posibles es de\\n {Producto.Product(3,SetCoins)}')"
      ],
      "metadata": {
        "colab": {
          "base_uri": "https://localhost:8080/"
        },
        "id": "OHQLq9zSBhBO",
        "outputId": "b0b2d9f4-0a60-4fcb-9097-b1ea36a6e097"
      },
      "execution_count": 2,
      "outputs": [
        {
          "output_type": "stream",
          "name": "stdout",
          "text": [
            "El espacio muestral es de 8 y la cantidad de combinacines posibles es de\n",
            " [('s', 's', 's'), ('s', 's', 'c'), ('s', 'c', 's'), ('s', 'c', 'c'), ('c', 's', 's'), ('c', 's', 'c'), ('c', 'c', 's'), ('c', 'c', 'c')]\n"
          ]
        }
      ]
    },
    {
      "cell_type": "markdown",
      "source": [
        ">En el siguiente problema se puede heredar la anterior clase ya que a fin de cuenta, utilizaría un proceso bastante similar, pero también se puede realizar con diagramas de árbol"
      ],
      "metadata": {
        "id": "Sa-VuB4NS_RJ"
      }
    },
    {
      "cell_type": "code",
      "source": [
        "Family=MuestralSet()\n",
        "Set=['G','B']\n",
        "print(f'El espacio muestral es de {Family.Muestral(3)} y la posibilidad de combinacion es de\\n{Family.Product(3,Set)}')"
      ],
      "metadata": {
        "colab": {
          "base_uri": "https://localhost:8080/"
        },
        "id": "o_O5puuOTJ55",
        "outputId": "738c238f-6b2d-4b8d-d532-a0bd94df3c0f"
      },
      "execution_count": 3,
      "outputs": [
        {
          "output_type": "stream",
          "name": "stdout",
          "text": [
            "El espacio muestral es de 8 y la posibilidad de combinacion es de\n",
            "[('G', 'G', 'G'), ('G', 'G', 'B'), ('G', 'B', 'G'), ('G', 'B', 'B'), ('B', 'G', 'G'), ('B', 'G', 'B'), ('B', 'B', 'G'), ('B', 'B', 'B')]\n"
          ]
        }
      ]
    },
    {
      "cell_type": "markdown",
      "source": [
        "> para este ejercicio es encontrar la suma de los 3 dados\n",
        ">>La consideración es que solo debe de haber una suma de ese mismo valor,entonces,se deben de crear 3 conjuntos,buscar el mínimo y le máximo y hacer la suma de todos esos valores"
      ],
      "metadata": {
        "id": "84u4EI0_qXLd"
      }
    },
    {
      "cell_type": "code",
      "source": [
        "Cube=MuestralSet()\n",
        "DataCube=[1,2,3,4,5,6]\n",
        "SetData=set(Cube.SetsDefinition(DataCube,3))\n",
        "ListData=list(SetData)\n",
        "Min=ListData[0]*3\n",
        "Max=ListData[5]*3\n",
        "for i in range((Max-Min)+1):\n",
        "    SumList=[i+Min]\n",
        "    print(SumList)"
      ],
      "metadata": {
        "colab": {
          "base_uri": "https://localhost:8080/"
        },
        "id": "1Vtob3FzzYWy",
        "outputId": "e8538576-c4cf-451b-9a16-cb91e8cbc1c7"
      },
      "execution_count": 4,
      "outputs": [
        {
          "output_type": "stream",
          "name": "stdout",
          "text": [
            "[3]\n",
            "[4]\n",
            "[5]\n",
            "[6]\n",
            "[7]\n",
            "[8]\n",
            "[9]\n",
            "[10]\n",
            "[11]\n",
            "[12]\n",
            "[13]\n",
            "[14]\n",
            "[15]\n",
            "[16]\n",
            "[17]\n",
            "[18]\n"
          ]
        }
      ]
    },
    {
      "cell_type": "markdown",
      "source": [],
      "metadata": {
        "id": "SVV60Ta_xcOQ"
      }
    },
    {
      "cell_type": "markdown",
      "source": [
        "# La siguiente etapa de ejercicios\n",
        "# Problemas de conjuntos\n",
        "> A={CX,XC,CC}\n",
        "> B={CX,XX}\n",
        ">$A∪ B$\n",
        "\n",
        ">$A\\cap b$\n",
        "\n",
        ">$A'$\n",
        "\n",
        ">$A-B$"
      ],
      "metadata": {
        "id": "CxJ-u-Wl6XpT"
      }
    },
    {
      "cell_type": "code",
      "source": [
        "class Sets:\n",
        "  def __init__(self,data=0):\n",
        "    self.data=value\n",
        "  def setCap(self,setA,setB):\n",
        "    return setA&setB\n",
        "  def setCup(self,setA,setB):\n",
        "    return setA|setB\n",
        "  def Component(self,setA,setB):\n",
        "    return self.setCup(setA,setB)-setA\n",
        "  def difference(self,setA,setB):\n",
        "    return setA-setB\n",
        "def value(x):\n",
        "  return x"
      ],
      "metadata": {
        "id": "WcFSQC2IAA76"
      },
      "execution_count": 5,
      "outputs": []
    },
    {
      "cell_type": "markdown",
      "source": [
        "> En este ejercicio se puede utilizar los operadores lógicos para hacer las operaciones de conjuntos, ya que como si bien, las operaciones de conjuntos poseen sus operaciones analogas, como es el & para el $\\cap$, para el $\\cup$ sería la operacion or,|, la diferencia sería el -, para el universo en este caso sería la unión A y B y la diferencia entre el universo y A\n"
      ],
      "metadata": {
        "id": "FJ3tkMuvvdd7"
      }
    },
    {
      "cell_type": "code",
      "source": [
        "Conjuntos=Sets()\n",
        "A={'cx','xc','cc'}\n",
        "B={'cx','xx'}\n",
        "\n",
        "print(Conjuntos.setCup(A,B))\n",
        "print(Conjuntos.setCap(A,B))\n",
        "print(Conjuntos.Component(A,B))\n",
        "print(Conjuntos.difference(A,B))"
      ],
      "metadata": {
        "colab": {
          "base_uri": "https://localhost:8080/"
        },
        "id": "AbUZNgjPtvy1",
        "outputId": "011a13a9-f3ee-45de-c1ed-5186e6924b0a"
      },
      "execution_count": 6,
      "outputs": [
        {
          "output_type": "stream",
          "name": "stdout",
          "text": [
            "{'xx', 'cc', 'xc', 'cx'}\n",
            "{'cx'}\n",
            "{'xx'}\n",
            "{'cc', 'xc'}\n"
          ]
        }
      ]
    },
    {
      "cell_type": "markdown",
      "source": [
        "# Sección de Probabilidad\n",
        "## Axiomas\n",
        ">Los axiomas nos ayudan a demostrar operaciones en matematicas, así como también afirmaciones matematicas. Por lo que es importante el conocer los axiomas para poder realizar operaciones en la probabilidad.\n",
        ">>SI S es discreto, todos los\n",
        "subconjuntos corresponden a eventos y por el contrario, si S es no discreta, solo un\n",
        "subconjunto especial (el denominado medible) corresponde a los eventos. Para\n",
        "cada evento A en la clase C de eventos, asociaremos un número real a P(A).\n",
        "Entonces P, es denominada la función de probabilidad y P(A) es la probabilidad del\n",
        "evento A, si los siguientes axiomas son satisfechos.\n",
        "\n",
        ">1.-Para cada evento A en la clase C\n",
        "p(A) $\\geq$ 0\n",
        "\n",
        ">2.- El evento segguro o para algún evento en la clase C\n",
        "$P(S)=1$\n",
        ">3.-Para cualquier número de eventos mutuamento excluyentes\n",
        "$P(A_1 ∪ A_2,...,A_n)=P(A_1)+P(A_2)+...+P(A_n)$\n",
        ">>Así que vemos aquí, que cuando los eventos A se encuentran en una unión dentro de la función de probabilidad, los consideramos que son mutuamente excluyente, y podemos operar solo sumando\n",
        "\n",
        ">### Teorems (Reglas aditivas)\n",
        " >1.-Si $A_1< A_2$, entonces $P(A_1) \\leq P(A_2)$ y $P(A_2-A_1)=P(A_2)-P(A_1)$\n",
        "\n",
        "  >2.-Para cada evento en A, $0 \\le P(A) \\le 1$\n",
        "\n",
        "  >3.- La probabilidad del evento imposible $= P(\\varnothing)=0$\n",
        "  \n",
        "  >4.-Si ~A es el complemento de A, entonces $P(~A)=1-P(A)$\n",
        "\n",
        "  >5.-Si A y B son dos eventos, entonces:\n",
        "\n",
        "  $$P(A\\cup B)=P(A)+P(B)-P(A\\cap B)$$\n",
        "\n",
        "  >6.- Si $A_1,A_2$ y $A_3$ son tres eventos,entonces:\n",
        "  $$P(A_1\\cup A_2\\cup A_3)=P(A_1)+P(A_2)+P(A_3)-P(A_1\\cap A_2)-P(A_2\\cap A_3)-P(A_1\\cap A_3)+P(A_1\\cap A_2\\cap A_3)$$\n",
        "  >7.- Para cualesquiera dos eventos A y B\n",
        "  $$P(A)=P(A\\cap B)+P(A\\cap B')$$\n",
        "\n",
        "\n",
        "  ### Asignaciones de probabilidades\n",
        "  En esto consiste cuando tenemos un S que es un numero infinito de resultados y podemos realizar lo siguiente:\n",
        "  $$P(A_1)+P(A_2)+...+P(A_n)=1$$\n",
        "\n",
        "  Siendo que:\n",
        "  $$P(A_K)=1/n, k=1,2...,n$$\n",
        "\n",
        "  $$P(A)=h/n$$\n",
        "  "
      ],
      "metadata": {
        "id": "gkfTmrEnxjr2"
      }
    },
    {
      "cell_type": "markdown",
      "source": [
        "Si A y B son dos sucesos disjunto con probabilidades $P(A)=0.37$ y $P(B)=0.44$\n",
        "\n",
        "1.$P(A')$\n",
        "\n",
        "2.$P(B')$\n",
        "\n",
        "3.$P(A \\cup B)$\n",
        "\n",
        "4.$P(A \\cap B)$\n",
        "\n",
        "5.$P(A \\cap B')$\n",
        "\n",
        "6.$P(A' \\cap B)$"
      ],
      "metadata": {
        "id": "O5z_GUL5Y55M"
      }
    },
    {
      "cell_type": "code",
      "source": [
        "class ProbSets():\n",
        "  def __init__(self,data=0):\n",
        "    self.data=value\n",
        "  def Complement(self,A):\n",
        "    return 1-A\n",
        "  def Union(self,A,B,AnB=0,disjoint=''):\n",
        "    if(AnB):\n",
        "      return A+B-AnB\n",
        "    else:\n",
        "      if(disjoint=='no'):\n",
        "        return A+B-self.intersection(A,B,disjoint)\n",
        "      elif(disjoint=='yes'):\n",
        "        return A+B\n",
        "  def intersection(self,A,B,disjoint=''):\n",
        "    if(disjoint=='Yes'):\n",
        "      return A*0\n",
        "    elif(disjoint=='no'):\n",
        "      return A*B\n",
        "  def conditional(self,AnB=0,B=0,mode='',A=0,BA=0,AB=0):\n",
        "    if(mode=='1'):\n",
        "      return AnB/B\n",
        "    elif(mode=='2'):\n",
        "      return (A*BA)/B\n",
        "def value(x):\n",
        "  return x"
      ],
      "metadata": {
        "id": "Kjj_4iWXYc1s"
      },
      "execution_count": 14,
      "outputs": []
    },
    {
      "cell_type": "code",
      "source": [
        "A=0.37\n",
        "B=0.44\n",
        "Probability=ProbSets()\n",
        "print(f'1.-\\t{Probability.Complement(A)}')\n",
        "print(f'2.-\\t{Probability.Complement(B)}')\n",
        "print(f'3.-\\t{Probability.Union(A,B,0,\"yes\")}')\n",
        "print(f'4.-\\t{Probability.intersection(A,B,\"yes\")}')\n",
        "print(f'5.-\\t {Probability.intersection(A,Probability.Complement(B),\"no\"):0,.3f}')\n",
        "print(f'6.-\\t{Probability.intersection(Probability.Complement(A),B,\"no\"):0,.3f}')\n",
        "print(\"Los resultados None es debido a que son valores de 0\")"
      ],
      "metadata": {
        "colab": {
          "base_uri": "https://localhost:8080/"
        },
        "id": "QPdusMXfbTe6",
        "outputId": "8a24a511-ae75-4d50-c26a-e59766b8ee6c"
      },
      "execution_count": 8,
      "outputs": [
        {
          "output_type": "stream",
          "name": "stdout",
          "text": [
            "1.-\t0.63\n",
            "2.-\t0.56\n",
            "3.-\t0.81\n",
            "4.-\tNone\n",
            "5.-\t 0.207\n",
            "6.-\t0.277\n",
            "Los resultados None es debido a que son valores de 0\n"
          ]
        }
      ]
    },
    {
      "cell_type": "markdown",
      "source": [
        "##Probabilidad condicional\n",
        "$$P(A|B)=\\frac{P(A\\cap B)}{P(B)}$$\n",
        "###Ejercicios\n",
        "\n",
        "En una facultad el 25% de los alumnos suspendió matemáticas, el 15% química y el 10% las dos materias. Seleccona un estudiante al azar.\n",
        "\n",
        "* Si suspendio química, ¿cuál es la probabilidad de que suspendiera matemáticas?\n",
        "* Si suspendió matemáticas, ¿cuál es la probailidad de que suspendiera química?\n",
        "* ¿Cuál es la probabilidad de que haya suspendido mateáticas o química?\n"
      ],
      "metadata": {
        "id": "-GomSYOaf_qW"
      }
    },
    {
      "cell_type": "code",
      "source": [
        "M=0.25\n",
        "Q=0.15\n",
        "MnQ=0.1\n",
        "Probability=ProbSets()\n",
        "print(f'La probabilidad de que repruebe matematicas dado que reprobo quimica es de {Probability.conditional(MnQ,Q,\"1\"):0,.3f}')\n",
        "print(f'La probabilidad de que repruebe quimica dado que reprobo matematicas es de {Probability.conditional(MnQ,M,\"1\"):0,.3f} ')\n",
        "print(f'la probabilidad de que haya reprobado ambas es de {Probability.Union(M,Q,MnQ):0,.3f}')"
      ],
      "metadata": {
        "colab": {
          "base_uri": "https://localhost:8080/"
        },
        "id": "10eld2M5gQei",
        "outputId": "889092ac-7e88-43e6-bd79-b94cc8f25c75"
      },
      "execution_count": 35,
      "outputs": [
        {
          "output_type": "stream",
          "name": "stdout",
          "text": [
            "La probabilidad de que repruebe matematicas dado que reprobo quimica es de 0.667\n",
            "La probabilidad de que repruebe quimica dado que reprobo matematicas es de 0.400 \n",
            "la probabilidad de que haya reprobado ambas es de 0.300\n"
          ]
        }
      ]
    },
    {
      "cell_type": "markdown",
      "source": [
        "## Bayes\n",
        "$$P(A|B)=\\frac{P(A)*P(B|A)}{P(B)}$$\n",
        "En un consultorio, el 40% de los pacientes fingen tener una enfermedad (para obtener\n",
        "incapacidad). Además, el 10% de los pacientes son hombres. La probabilidad de que un\n",
        "paciente finja una enfermedad dado que es hombre es del 50%. Calcular la probabilidad\n",
        "de que un paciente sea hombre, dado que finge una enfermedad\n",
        "$$P(H|F)=\\frac{P(H)*P(F|H)}{P(F)}$$\n"
      ],
      "metadata": {
        "id": "XAE-d9xVkeK3"
      }
    },
    {
      "cell_type": "code",
      "source": [
        "M=.10\n",
        "F=.4\n",
        "FM=0.5\n",
        "Probability=ProbSets()\n",
        "print(f'La probabilidad de que finge dado que es hombre es de {Probability.conditional(0,F,\"2\",M,FM):0.3f}')"
      ],
      "metadata": {
        "colab": {
          "base_uri": "https://localhost:8080/"
        },
        "id": "J7e4EVPckomU",
        "outputId": "b14ed279-c6fc-46fd-abc2-39a7b9abc4ff"
      },
      "execution_count": 39,
      "outputs": [
        {
          "output_type": "stream",
          "name": "stdout",
          "text": [
            "La probabilidad de que finge dado que es hombre es de 0.125\n"
          ]
        }
      ]
    },
    {
      "cell_type": "markdown",
      "source": [
        "####Ejemplo 2\n",
        "En un acuario se tienen solo 2 especies de peces. El 40% de los peces son azules, el\n",
        "60% son rojos. De los azules, el 30% son machos, mientras que de los rojos el 40% son\n",
        "hembras. A) si se selecciona un pez hembra, ¿Cuál es la probabilidad de que sea azul?\n",
        "$$P(A|H)=\\frac{P(A)*P(H|A)}{P(H)}$$\n"
      ],
      "metadata": {
        "id": "kQ4cR9WepquO"
      }
    },
    {
      "cell_type": "code",
      "source": [
        "A=.40\n",
        "R=0.6\n",
        "MA=0.3\n",
        "HR=0.4\n",
        "Probability=ProbSets()\n",
        "#print(A*Probability.Complement(MA)+R*HR)\n",
        "#print(A)\n",
        "#print(Probability.Complement(MA))\n",
        "print(f\"la probabilidad de que se azul dado que es hembra es de {Probability.conditional(0,(A*Probability.Complement(MA)+R*HR),'2',A,Probability.Complement(MA)):0,.3f}\")"
      ],
      "metadata": {
        "colab": {
          "base_uri": "https://localhost:8080/"
        },
        "id": "vN3JBzUcps54",
        "outputId": "d0bc277a-0c24-4114-ca37-a53373542149"
      },
      "execution_count": 52,
      "outputs": [
        {
          "output_type": "stream",
          "name": "stdout",
          "text": [
            "la probabilidad de que se azul dado que es hembra es de 0.538\n"
          ]
        }
      ]
    },
    {
      "cell_type": "markdown",
      "source": [
        "## Ejemplo 3\n",
        "Tenemos dos cajas, la caja I contiene 3 canicas rojas y 2 azules, mientras que la\n",
        "caja II tiene 2 canicas rojas y 8 azules. Se lanza una moneda. Si sale cara, una\n",
        "canica es elegida de la caja I; si sale cruz, una canica es elegida de la caja II.\n",
        "Encuentra la probabilidad de que la canica roja es elegida."
      ],
      "metadata": {
        "id": "V7sNcmZdtyUh"
      }
    },
    {
      "cell_type": "code",
      "source": [
        "BOX1=0.5\n",
        "BOX2=0.5\n",
        "Redbox1=3/5\n",
        "Redbox2=1/5\n",
        "print(f'La probabilidad de que sea roja es de {BOX1*Redbox1+BOX2*Redbox2}')"
      ],
      "metadata": {
        "colab": {
          "base_uri": "https://localhost:8080/"
        },
        "id": "lYQ2bCd7tzqy",
        "outputId": "1caf1d5c-4f96-4ced-b74a-5b32087ea34b"
      },
      "execution_count": 53,
      "outputs": [
        {
          "output_type": "stream",
          "name": "stdout",
          "text": [
            "La probabilidad de que sea roja es de 0.4\n"
          ]
        }
      ]
    },
    {
      "cell_type": "markdown",
      "source": [
        "### Ejemplo 4\n",
        "En base al ejemplo anterior, imaginemos que no sabemos que resultado se\n",
        "obtuvo de lanzar la moneda, pero si nos dicen de que color era la canica. ¿Cuál\n",
        "es la probabilidad de que la caja I fue elegida?\n",
        "$$P(CajaI|R)=\\frac{P(Caja1)*P(R|Caja1)}{P(Rojo)}$$\n"
      ],
      "metadata": {
        "id": "YOv239CPuxy8"
      }
    },
    {
      "cell_type": "code",
      "source": [
        "BOX1=0.5\n",
        "BOX2=0.5\n",
        "Redbox1=3/5\n",
        "Redbox2=1/5\n",
        "Probabilidad=ProbSets()\n",
        "print(f'{Probability.conditional(0,(BOX1*Redbox1+BOX2*Redbox2),\"2\",BOX1,Redbox1):0,.3f}')"
      ],
      "metadata": {
        "colab": {
          "base_uri": "https://localhost:8080/"
        },
        "id": "CMezsMvTu2GE",
        "outputId": "94183881-16d2-4fc7-a4ca-c09568617cda"
      },
      "execution_count": 56,
      "outputs": [
        {
          "output_type": "stream",
          "name": "stdout",
          "text": [
            "0.750\n"
          ]
        }
      ]
    },
    {
      "cell_type": "markdown",
      "source": [
        "#Nota\n",
        "En esta seccion vendrán más ejercicios pero de otros apartados.\n",
        "Si $A={1,3,5}$ Y $B={4,5,6}$\n",
        "$$A\\cup B$$\n",
        "$$A\\cap B$$\n",
        "$$A- B$$\n",
        "$$B-A$$"
      ],
      "metadata": {
        "id": "wXVkTmKGxcay"
      }
    },
    {
      "cell_type": "code",
      "source": [
        "A={1,3,5}\n",
        "B={4,5,6}\n",
        "sets=Sets()\n",
        "print(sets.setCup(A,B))\n",
        "print(sets.setCap(A,B))\n",
        "print(sets.difference(A,B))\n",
        "print(sets.difference(B,A))"
      ],
      "metadata": {
        "colab": {
          "base_uri": "https://localhost:8080/"
        },
        "id": "c_7zsdhGxcAY",
        "outputId": "f6496ab6-8767-4558-df6b-12ce2d80a1f3"
      },
      "execution_count": 64,
      "outputs": [
        {
          "output_type": "stream",
          "name": "stdout",
          "text": [
            "{1, 3, 4, 5, 6}\n",
            "{5}\n",
            "{1, 3}\n",
            "{4, 6}\n"
          ]
        }
      ]
    },
    {
      "cell_type": "markdown",
      "source": [
        "# Problema de Bayes\n",
        "In Orange county, 51% of the adults are males. One adult is randomly selected for a survey involving credit card usage.\n",
        "Find the prior probability that the selected person is a male.\n",
        "It is later learner that the selected survey subject was smoking a cigar. Also, 9.5% of males smoke cigars, whereas 1.7% of females smoke cigars. Use this additional information to find the probability that the selected subject is a male.\n",
        "$$P(M|C)=\\frac{P(M)*P(C|M)}{P(C)}$$\n"
      ],
      "metadata": {
        "id": "C-vwhqWhzZ0-"
      }
    },
    {
      "cell_type": "code",
      "source": [
        "M=.51\n",
        "CM=0.095\n",
        "CF=0.017\n",
        "Probability=ProbSets()\n",
        "print(f'La probabilidad de que sea hombre dado que fuma es de : {Probability.conditional(0,(CM*M+(CF)*Probability.Complement(M)),\"2\",M,CM):0,.3F}')"
      ],
      "metadata": {
        "colab": {
          "base_uri": "https://localhost:8080/"
        },
        "id": "I1QA2OeJ4cvi",
        "outputId": "e99a0b21-1c12-44f7-bfde-f5bcf402ba5a"
      },
      "execution_count": 14,
      "outputs": [
        {
          "output_type": "stream",
          "name": "stdout",
          "text": [
            "La probabilidad de que sea hombre dado que fuma es de : 0.853\n"
          ]
        }
      ]
    },
    {
      "cell_type": "markdown",
      "source": [
        "# Distribuciones\n",
        "Ejercicios de Distribuciones\n",
        "De una población de ballenas, se sabe que el 60% son machos. Si extraemos un\n",
        "conjunto con 10 ballenas, ¿Cuál es la probabilidad de que en ese conjunto haya 7\n",
        "hembras?"
      ],
      "metadata": {
        "id": "9S89_Oaz6fgz"
      }
    },
    {
      "cell_type": "code",
      "source": [
        "k=7\n",
        "n=10\n",
        "pA=0.6\n",
        "Probabilidad=ProbSets()\n",
        "p=Probabilidad.Complement(pA)\n",
        "print(binom.pmf(k,n,p))\n"
      ],
      "metadata": {
        "colab": {
          "base_uri": "https://localhost:8080/"
        },
        "id": "R3rojQbU6lke",
        "outputId": "7eb4c08b-6f00-45ca-cfc8-8a72dac4d832"
      },
      "execution_count": 19,
      "outputs": [
        {
          "output_type": "stream",
          "name": "stdout",
          "text": [
            "0.04246732799999996\n"
          ]
        }
      ]
    },
    {
      "cell_type": "markdown",
      "source": [
        "En el mismo ejemplo, ¿Cuál es la probabilidad de que en ese conjunto haya 3 o\n",
        "menos hembras?"
      ],
      "metadata": {
        "id": "IpnJ65wNkjCj"
      }
    },
    {
      "cell_type": "code",
      "source": [
        "k=7\n",
        "n=10\n",
        "pA=0.6\n",
        "Probabilidad=ProbSets()\n",
        "p=Probabilidad.Complement(pA)\n",
        "Total=0\n",
        "for i in range(4):\n",
        "  print(f'probabilidad para cada experimento \\nExperimento {i} {binom.pmf(i,n,p):0,.3f}')\n",
        "  Total+=binom.pmf(i,n,p)\n",
        "print(f'La probabilidad de encontrarlo es de {Total:0,.3f}')"
      ],
      "metadata": {
        "colab": {
          "base_uri": "https://localhost:8080/"
        },
        "id": "EarI9654kmG2",
        "outputId": "5d1672b1-0629-48da-ddeb-d073cef3829d"
      },
      "execution_count": 91,
      "outputs": [
        {
          "output_type": "stream",
          "name": "stdout",
          "text": [
            "probabilidad para cada experimento \n",
            "Experimento 0 0.006\n",
            "probabilidad para cada experimento \n",
            "Experimento 1 0.040\n",
            "probabilidad para cada experimento \n",
            "Experimento 2 0.121\n",
            "probabilidad para cada experimento \n",
            "Experimento 3 0.215\n",
            "La probabilidad de encontrarlo es de 0.382\n"
          ]
        }
      ]
    },
    {
      "cell_type": "markdown",
      "source": [
        "En el mismo ejemplo, ¿Cuál es la probabilidad de que en ese conjunto haya 7 o\n",
        "menos machos?"
      ],
      "metadata": {
        "id": "_WBnuEs8lzRw"
      }
    },
    {
      "cell_type": "code",
      "source": [
        "k=7\n",
        "n=10\n",
        "pA=0.6\n",
        "Total=0\n",
        "for i in range(k+1):\n",
        "  print(f'probabilidad para cada experimento \\nExperimento {i} {binom.pmf(i,n,pA):0,.3f}')\n",
        "  Total+=binom.pmf(i,n,p)\n",
        "#Teoricamente saldría eso en la suma de probabilidades hasta 7\n",
        "print(f'La probabilidad de encontrarlo es de {Total:0,.3f}')\n",
        "ProbHem=0.382\n",
        "Probabilidad=ProbSets()\n",
        "p=Probabilidad.Complement(ProbHem)\n",
        "print(p)#Y si fuera  por complementos tendría que brindar este resultado"
      ],
      "metadata": {
        "colab": {
          "base_uri": "https://localhost:8080/"
        },
        "id": "LEdUMq0dl1up",
        "outputId": "238c1fbc-5cd9-4142-aff5-c700757e993d"
      },
      "execution_count": 48,
      "outputs": [
        {
          "output_type": "stream",
          "name": "stdout",
          "text": [
            "probabilidad para cada experimento \n",
            "Experimento 0 0.000\n",
            "probabilidad para cada experimento \n",
            "Experimento 1 0.002\n",
            "probabilidad para cada experimento \n",
            "Experimento 2 0.011\n",
            "probabilidad para cada experimento \n",
            "Experimento 3 0.042\n",
            "probabilidad para cada experimento \n",
            "Experimento 4 0.111\n",
            "probabilidad para cada experimento \n",
            "Experimento 5 0.201\n",
            "probabilidad para cada experimento \n",
            "Experimento 6 0.251\n",
            "probabilidad para cada experimento \n",
            "Experimento 7 0.215\n",
            "La probabilidad de encontrarlo es de 0.802\n",
            "0.618\n"
          ]
        }
      ]
    },
    {
      "cell_type": "markdown",
      "source": [
        "# Ejemplo 2\n",
        "Los avistamientos de cachalotes sigue una distribución de Poisson con un promedio de 2\n",
        "avistamientos en un transecto (un área delimitada de antemano) de muestreo de 1km de\n",
        "recorrido tras una salida en barco. Calcula la probabilidad de:\n",
        " - No haya ningún avistamiento en el recorrido del barco:\n",
        " -Haya menos de cinco en el mismo recorrido:\n",
        " - Y menos de seis si consideramos un recorrido de 5km."
      ],
      "metadata": {
        "id": "KWWygvNcpzAK"
      }
    },
    {
      "cell_type": "code",
      "source": [
        "print(f'La probabilidad de encontrar un cachalote en 0 avistamientos es de {poisson.pmf(k=0,mu=2):0,.3f}')"
      ],
      "metadata": {
        "colab": {
          "base_uri": "https://localhost:8080/"
        },
        "id": "xSIXL28-pef9",
        "outputId": "67eadbfd-69bd-47b0-ba51-9c29bf0923e0"
      },
      "execution_count": 57,
      "outputs": [
        {
          "output_type": "stream",
          "name": "stdout",
          "text": [
            "La probabilidad de encontrar un cachalote en 0 avistamientos es de 0.135\n"
          ]
        }
      ]
    },
    {
      "cell_type": "code",
      "source": [
        "Total=0\n",
        "X=[]\n",
        "for i in range(5):\n",
        "  Total+=poisson.pmf(k=i,mu=2)\n",
        "  X.append(poisson.pmf(k=i,mu=2))\n",
        "print(f'La probabilidad de encontrar un cachalote en menos de 5 avistamientos es de {Total:0,.3f}')\n",
        "plt.hist(X, density=True, edgecolor='black')"
      ],
      "metadata": {
        "colab": {
          "base_uri": "https://localhost:8080/",
          "height": 552
        },
        "id": "MO5mdFWEq4e4",
        "outputId": "5e4ba734-ad92-47cc-d85c-f10f27908bfc"
      },
      "execution_count": 88,
      "outputs": [
        {
          "output_type": "stream",
          "name": "stdout",
          "text": [
            "La probabilidad de encontrar un cachalote en menos de 5 avistamientos es de 0.947\n"
          ]
        },
        {
          "output_type": "execute_result",
          "data": {
            "text/plain": [
              "(array([11.08358415,  0.        , 11.08358415,  0.        , 11.08358415,\n",
              "         0.        ,  0.        ,  0.        ,  0.        , 22.1671683 ]),\n",
              " array([0.09022352, 0.10826823, 0.12631293, 0.14435764, 0.16240234,\n",
              "        0.18044704, 0.19849175, 0.21653645, 0.23458116, 0.25262586,\n",
              "        0.27067057]),\n",
              " <BarContainer object of 10 artists>)"
            ]
          },
          "metadata": {},
          "execution_count": 88
        },
        {
          "output_type": "display_data",
          "data": {
            "text/plain": [
              "<Figure size 640x480 with 1 Axes>"
            ],
            "image/png": "[encoded data removed]"
          },
          "metadata": {}
        }
      ]
    },
    {
      "cell_type": "code",
      "source": [
        "Total=0\n",
        "X=[]\n",
        "for i in range(6):\n",
        "  Total+=poisson.pmf(k=i,mu=2*5)\n",
        "  X.append(poisson.pmf(k=i,mu=2*5))\n",
        "print(f'La probabilidad de encontrar un cachalote en menos de 6 avistamientosa un rango de 5 kilometros es de {Total:0,.3f}')\n",
        "plt.hist(X, density=True, edgecolor='black')"
      ],
      "metadata": {
        "colab": {
          "base_uri": "https://localhost:8080/",
          "height": 569
        },
        "id": "acfmaCn3sScx",
        "outputId": "563b9813-d71b-4ccf-d4bf-f5f10e519a25"
      },
      "execution_count": 93,
      "outputs": [
        {
          "output_type": "stream",
          "name": "stdout",
          "text": [
            "La probabilidad de encontrar un cachalote en menos de 6 avistamientosa un rango de 5 kilometros es de 0.067\n"
          ]
        },
        {
          "output_type": "execute_result",
          "data": {
            "text/plain": [
              "(array([132.31757586,  44.10585862,   0.        ,   0.        ,\n",
              "         44.10585862,   0.        ,   0.        ,   0.        ,\n",
              "          0.        ,  44.10585862]),\n",
              " array([4.53999298e-05, 3.82418742e-03, 7.60297490e-03, 1.13817624e-02,\n",
              "        1.51605499e-02, 1.89393374e-02, 2.27181249e-02, 2.64969123e-02,\n",
              "        3.02756998e-02, 3.40544873e-02, 3.78332748e-02]),\n",
              " <BarContainer object of 10 artists>)"
            ]
          },
          "metadata": {},
          "execution_count": 93
        },
        {
          "output_type": "display_data",
          "data": {
            "text/plain": [
              "<Figure size 640x480 with 1 Axes>"
            ],
            "image/png": "[encoded data removed]"
          },
          "metadata": {}
        }
      ]
    },
    {
      "cell_type": "markdown",
      "source": [
        "# Distribuciones continuas\n"
      ],
      "metadata": {
        "id": "UODtxzgHuwMR"
      }
    },
    {
      "cell_type": "markdown",
      "source": [
        "Sea X una variable aleatoria “normal” con media 5 y de (desviación estándar) = 2.\n",
        "Calcular la probabilidad de que dicha variable tome valores inferiores a 4."
      ],
      "metadata": {
        "id": "egwO0cUcvpbC"
      }
    },
    {
      "cell_type": "code",
      "source": [
        "media = 5\n",
        "sigma = 2\n",
        "\n",
        "# Valor para el cual quieres calcular la probabilidad\n",
        "x = 4\n",
        "Probability=ProbSets()\n",
        "# Calcular la probabilidad acumulativa (CDF)\n",
        "probability = Probability.Complement(stats.norm.cdf(x, media, sigma))\n",
        "##\n",
        "\n",
        "print(f'La probabilidad de que X sea inferior a {x} es: {probability:0,.3f}')"
      ],
      "metadata": {
        "colab": {
          "base_uri": "https://localhost:8080/"
        },
        "id": "60SqKIl8uzEX",
        "outputId": "3aa3818a-7b6d-4b72-ef6f-3e6acac0e981"
      },
      "execution_count": 110,
      "outputs": [
        {
          "output_type": "stream",
          "name": "stdout",
          "text": [
            "La probabilidad de que X sea inferior a 4 es: 0.691\n"
          ]
        }
      ]
    }
  ]
}