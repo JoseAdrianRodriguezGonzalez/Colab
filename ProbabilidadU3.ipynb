{
  "nbformat": 4,
  "nbformat_minor": 0,
  "metadata": {
    "colab": {
      "provenance": [],
      "authorship_tag": "ABX9TyMqquJPWPvwZn7fj+YabdHq",
      "include_colab_link": true
    },
    "kernelspec": {
      "name": "python3",
      "display_name": "Python 3"
    },
    "language_info": {
      "name": "python"
    }
  },
  "cells": [
    {
      "cell_type": "markdown",
      "metadata": {
        "id": "view-in-github",
        "colab_type": "text"
      },
      "source": [
        "<a href=\"https://colab.research.google.com/github/JoseAdrianRodriguezGonzalez/Colab/blob/main/ProbabilidadU3.ipynb\" target=\"_parent\"><img src=\"https://colab.research.google.com/assets/colab-badge.svg\" alt=\"Open In Colab\"/></a>"
      ]
    },
    {
      "cell_type": "markdown",
      "source": [
        "4# Ejercicios\n",
        "## Unidad 3\n",
        "\n",
        "En este documento, se realizarán los ejercicios de la unidad 3\n",
        "##1-Estimaciones\n",
        "Genera el estimador de $ϵ(λ)=λ*e^{-\\lambda*x}$\n",
        "Siendo su media aritmetica\n",
        "$\\hat{X}=\\frac{1}{\\lambda} $"
      ],
      "metadata": {
        "id": "S-pFzG8-PnWJ"
      }
    },
    {
      "cell_type": "code",
      "source": [
        "from sympy import *\n",
        "import numpy as np\n",
        "import scipy.stats as st\n",
        "from scipy.stats import norm\n",
        "lambda_,x=symbols('lambda x')\n",
        "Solution=solve((1/lambda_)-x,lambda_,dict=true);\n",
        "print(f'el estimador de la distribucion exponencial es: {Solution}')"
      ],
      "metadata": {
        "id": "p9kcSVk4Pzrj",
        "colab": {
          "base_uri": "https://localhost:8080/"
        },
        "outputId": "fd3c0adb-4a98-471e-b45f-9c7e2f3796c4"
      },
      "execution_count": 55,
      "outputs": [
        {
          "output_type": "stream",
          "name": "stdout",
          "text": [
            "el estimador de la distribucion exponencial es: [{lambda: 1/x}]\n"
          ]
        }
      ]
    },
    {
      "cell_type": "markdown",
      "source": [
        "#2-Encuentra el estimador para Gamma que se expresa como\n",
        "$$X → Γ(k;λ)$$\n",
        "Siendo su\n",
        "$$E[X]=\\mu=\\frac{k}{\\lambda}=f(k,λ)$$\n",
        "$$Var[X]=σ^2=\\frac{k}{λ^2}=g(k,\\lambda)$$"
      ],
      "metadata": {
        "id": "PgrOjLrnaUUy"
      }
    },
    {
      "cell_type": "code",
      "source": [
        "k,_mu,_sigma,_lambda=symbols(\"k mu sigma lambda\")\n",
        "Solutions=solve([(k/_lambda)-_mu,(k/(_lambda**2))-_sigma**2],[k,_lambda],dict=True)\n",
        "print(Solutions)"
      ],
      "metadata": {
        "colab": {
          "base_uri": "https://localhost:8080/"
        },
        "id": "4gyzYIPodnEG",
        "outputId": "e28b5f9f-2e94-4e0e-a043-d4317bf7b78f"
      },
      "execution_count": 56,
      "outputs": [
        {
          "output_type": "stream",
          "name": "stdout",
          "text": [
            "[{k: mu**2/sigma**2, lambda: mu/sigma**2}]\n"
          ]
        }
      ]
    },
    {
      "cell_type": "markdown",
      "source": [
        "#3-Ejemplo\n",
        "$$E(X)=\\overline{X}⇔ \\frac{1-p}{p}$$\n",
        "Si $X=[3,0,2,0,1,5,2,5,15,1]$"
      ],
      "metadata": {
        "id": "6XrnRYznr-pn"
      }
    },
    {
      "cell_type": "code",
      "source": [
        "p,x=symbols(\"p x\")\n",
        "X=[3,0,2,0,1,5,2,5,15,1]\n",
        "x=np.mean(X)\n",
        "Solution=nsolve(((1-p)/p)-x,0.1)\n",
        "print(Solution)"
      ],
      "metadata": {
        "colab": {
          "base_uri": "https://localhost:8080/"
        },
        "id": "fskbEGOzsU-T",
        "outputId": "89594a70-ccb9-48b0-80da-0b2d0723e64a"
      },
      "execution_count": 57,
      "outputs": [
        {
          "output_type": "stream",
          "name": "stdout",
          "text": [
            "0.227272727272727\n"
          ]
        }
      ]
    },
    {
      "cell_type": "markdown",
      "source": [
        "#4-Ejemplo Si X de Uk(a,b)\n",
        "$E(X)=\\overline{x}→\\hat{X}=\\frac{a+b}{2}$\n",
        "$$V(X) → V=\\frac{(b-a)^2}{12}$$\n",
        "$$X=[1.28,1.165,0.465,1.09,1.05,0.0045,0.52,0.88,0.76,1.37]$$\n"
      ],
      "metadata": {
        "id": "-0gRdLlXueXs"
      }
    },
    {
      "cell_type": "code",
      "source": [
        "X=[1.28,1.165,0.465,1.09,1.05,0.0045,0.52,0.88,0.76,1.37]\n",
        "x,v,a,b=symbols(\"x v a b\")\n",
        "x=np.mean(X)\n",
        "v=np.var(X)\n",
        "f1=(a+b)/2-x\n",
        "f2=((b-a)**2/12)-v\n",
        "solutions=nsolve((f1,f2),(a,b),(-0.1,0.1))\n",
        "print(solutions)"
      ],
      "metadata": {
        "colab": {
          "base_uri": "https://localhost:8080/"
        },
        "id": "bAZcttlpud9d",
        "outputId": "a446b165-4192-4724-c7a1-e4e6f643e05f"
      },
      "execution_count": 59,
      "outputs": [
        {
          "output_type": "stream",
          "name": "stdout",
          "text": [
            "Matrix([[0.158648694271009], [1.55825130572899]])\n"
          ]
        }
      ]
    },
    {
      "cell_type": "markdown",
      "source": [
        "#5-metodo de momentos para encontrar el predictor\n",
        "Se sabe que en una urna hay 4 bolas(blancas o negras)\n",
        "Se sabe que la proporcion de bolas blances, es desconocida por lo que toma los siguientes valores\n",
        "$$\\theta={0,1/4,2/4,3/4,1}$$\n",
        "Se extraen de la unra 2 bolas. La primera es blanca y la segunda negra. La probabilidad de obtener esa muestr depende de la proporcion de bolas blancas de la urna"
      ],
      "metadata": {
        "id": "S8WmA_JhyE1B"
      }
    },
    {
      "cell_type": "code",
      "source": [
        "\n",
        "class ProbSets():\n",
        "  def __init__(self,data=0):\n",
        "    self.data=value\n",
        "  def Complement(self,A):\n",
        "    return 1-A\n",
        "  def Union(self,A,B,AnB=0,disjoint=''):\n",
        "    if(AnB):\n",
        "      return A+B-AnB\n",
        "    else:\n",
        "      if(disjoint=='no'):\n",
        "        return A+B-self.intersection(A,B,disjoint)\n",
        "      elif(disjoint=='yes'):\n",
        "        return A+B\n",
        "  def intersection(self,A,B,disjoint=''):\n",
        "    if(disjoint=='Yes'):\n",
        "      return A*0\n",
        "    elif(disjoint=='no'):\n",
        "      return A*B\n",
        "  def conditional(self,AnB=0,B=0,mode='',A=0,BA=0,AB=0):\n",
        "    if(mode=='1'):\n",
        "      return AnB/B\n",
        "    elif(mode=='2'):\n",
        "      return (A*BA)/B\n",
        "def value(x):\n",
        "  return x\n",
        ""
      ],
      "metadata": {
        "id": "oUuW6ZRByx2I"
      },
      "execution_count": 60,
      "outputs": []
    },
    {
      "cell_type": "code",
      "source": [
        "Proba=ProbSets()\n",
        "first=[0,1/4,2/4,3/4,1]\n",
        "second=[1,3/4,2/4,1/4,0]\n",
        "x1=[]\n",
        "for i in range(len(first)):\n",
        "  x1.append(Proba.conditional(0,1,'2',first[i],second[i],0))\n",
        "\n",
        "valueofmax=first[x1.index(max(x1))]\n",
        "print(f'el valor maximo de verosimilitud es {valueofmax}')\n",
        "\n"
      ],
      "metadata": {
        "colab": {
          "base_uri": "https://localhost:8080/"
        },
        "id": "LAUZW5pFzMHr",
        "outputId": "9ec89880-b93f-4731-cd83-85299290daaf"
      },
      "execution_count": 61,
      "outputs": [
        {
          "output_type": "stream",
          "name": "stdout",
          "text": [
            "el valor maximo de verosimilitud es 0.5\n"
          ]
        }
      ]
    },
    {
      "cell_type": "markdown",
      "source": [
        "# Intervalos de confianza ejercicios"
      ],
      "metadata": {
        "id": "lr8sv-Jj2VHS"
      }
    },
    {
      "cell_type": "markdown",
      "source": [
        "#6-Se quiere obtener un estimador por intervalo con 95% de confianza de la siguiente muestra\n",
        "{17,21,20,18,19,22,20,21,16,19}\n",
        "$$\\overline{x}±z_{\\frac{\\alpha}{2}}*\\frac{\\sigma}{\\sqrt{n}}$$"
      ],
      "metadata": {
        "id": "abvL4RGM2kVn"
      }
    },
    {
      "cell_type": "code",
      "source": [
        "x=[17,21,20,18,19,22,20,21,16,19]\n",
        "xmean=np.mean(x)\n",
        "xde=3\n",
        "xn=len(x)\n",
        "zscore=norm.ppf((1+0.95)/2)\n",
        "confidence=(xmean-zscore*(xde/np.sqrt(xn)),xmean+zscore*(xde/np.sqrt(xn)))\n",
        "\n",
        "print(f'El intervalo de confianza es: {confidence}')"
      ],
      "metadata": {
        "colab": {
          "base_uri": "https://localhost:8080/"
        },
        "id": "3tU1UCDp2xNh",
        "outputId": "3c893f08-a659-48f9-c3d8-3c404f7fb6c5"
      },
      "execution_count": 62,
      "outputs": [
        {
          "output_type": "stream",
          "name": "stdout",
          "text": [
            "El intervalo de confianza es: (17.440614903086317, 21.159385096913685)\n"
          ]
        }
      ]
    },
    {
      "cell_type": "markdown",
      "source": [
        "7-Se quiere contrastar la efectividad de una herramienta para realizar una tarea. Se ha pedido a 9 operarios realizar dicha tarea con ambas herramientas y se ha meiddo el tiempo en minutos\n"
      ],
      "metadata": {
        "id": "z6G47UE4t-N5"
      }
    },
    {
      "cell_type": "code",
      "source": [
        "from scipy.stats import t\n",
        "worker=[1,2,3,4,5,6,7,8,9]\n",
        "OldTool=[39.5,35.4,35,41.3,44,32.9,37.7,41,38]\n",
        "NewTool=[43.2,30.5,31.5,38,44.5,33,36.2,38.4,35]\n",
        "Dx=[]\n",
        "for i in range(9):\n",
        "  Dx.append(OldTool[i]-NewTool[i])\n",
        "Oldmean=np.mean(OldTool)\n",
        "Newmean=np.mean(NewTool)\n",
        "Dmean=-Newmean+Oldmean\n",
        "#Dmean\n",
        "OldStd=np.var(OldTool)*(9/8)\n",
        "NewStd=np.var(NewTool)*(9/8)\n",
        "Dxstd=np.var(Dx)*(9/8)\n",
        "conf=(Dmean+(t.ppf((1-0.95)/2,8))*(np.sqrt(Dxstd)/np.sqrt(len(OldTool))),Dmean-(t.ppf((1-0.95)/2,8))*(np.sqrt(Dxstd)/np.sqrt(len(OldTool))))\n",
        "print(f'Los valores de confianza son: {conf}')"
      ],
      "metadata": {
        "colab": {
          "base_uri": "https://localhost:8080/"
        },
        "id": "aGl9Z1PVuNYb",
        "outputId": "7710fd92-8835-4aa8-c2d9-d8c0fa6a076e"
      },
      "execution_count": 63,
      "outputs": [
        {
          "output_type": "stream",
          "name": "stdout",
          "text": [
            "Los valores de confianza son: (-0.41802855910959114, 3.6402507813318197)\n"
          ]
        }
      ]
    }
  ]
}