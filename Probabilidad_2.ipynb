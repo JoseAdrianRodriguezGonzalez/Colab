{
  "nbformat": 4,
  "nbformat_minor": 0,
  "metadata": {
    "colab": {
      "provenance": [],
      "authorship_tag": "ABX9TyODXw/azX/AOli7WI77XGZl",
      "include_colab_link": true
    },
    "kernelspec": {
      "name": "python3",
      "display_name": "Python 3"
    },
    "language_info": {
      "name": "python"
    }
  },
  "cells": [
    {
      "cell_type": "markdown",
      "metadata": {
        "id": "view-in-github",
        "colab_type": "text"
      },
      "source": [
        "<a href=\"https://colab.research.google.com/github/JoseAdrianRodriguezGonzalez/Colab/blob/main/Probabilidad_2.ipynb\" target=\"_parent\"><img src=\"https://colab.research.google.com/assets/colab-badge.svg\" alt=\"Open In Colab\"/></a>"
      ]
    },
    {
      "cell_type": "markdown",
      "source": [
        "# Ejercicios de práctica\n",
        "##Esperanza\n",
        "Es la media de una variablee aleatoria discreta que puede resultar de un número teórico infinito de ensayos"
      ],
      "metadata": {
        "id": "yKOgEMp2eJC-"
      }
    },
    {
      "cell_type": "markdown",
      "source": [
        "##Ejercicio 1\n",
        "Usted está considerando la posibilidad de apostar al número 7 de la ruleta.\n",
        "Si usted apuesta $5 al número 7, la probabilidad de perder $5 es de 37/38 y considerando que el premio es de $180, la posibilidad de obtener un ganancia de $175 es de 1/38. Calcule su valor esperado en caso de apostar $5 al número 7.\n",
        ">Se realiza una tabla\n",
        ">perdida -5,37/38\n",
        ">Ganancia 175,1/38"
      ],
      "metadata": {
        "id": "3UsHxN6phNQP"
      }
    },
    {
      "cell_type": "code",
      "source": [
        "x=-5\n",
        "xwin=175\n",
        "ploss=37/38\n",
        "pwin=1/38\n",
        "def Mediabyloss(xwin,xloss,ploss,pwin):\n",
        "  Primera_fila=\"{}\\t\\t{}\\t\\t\\t{}\\t\\t\\t{}\".format(\"Evento\",\"x\",\"p(x)\",\"xp(x)\")\n",
        "  Segunda_fila=\"{}\\t\\t{}\\t\\t{}\\t{}\".format(\"Perdida\",x,ploss,x*ploss)\n",
        "  Tercera_fila=\"{}\\t{}\\t\\t{}\\t{}\".format(\"ganancia\",xwin,pwin,xwin*pwin)\n",
        "  Cuarta_fila=\"{}\\t\\t{}\\t\\t{}\\t\\t\\t{}\".format(\"Total\",x+(-xwin),ploss+pwin,xwin*pwin+(xloss*ploss))\n",
        "  print(Primera_fila)\n",
        "  print(Segunda_fila)\n",
        "  print(Tercera_fila)\n",
        "  print(Cuarta_fila)\n",
        "  return xwin*pwin+xloss*ploss\n",
        "\n",
        "hope=Media(xwin,x,ploss,pwin)\n",
        "print(f'Pierde {hope}')"
      ],
      "metadata": {
        "colab": {
          "base_uri": "https://localhost:8080/"
        },
        "id": "UT2LYvm_eJYY",
        "outputId": "7e257d4a-c1b8-4060-faf1-a3c3e10d48bc"
      },
      "execution_count": 27,
      "outputs": [
        {
          "output_type": "stream",
          "name": "stdout",
          "text": [
            "Evento\t\tx\t\t\tp(x)\t\t\txp(x)\n",
            "Perdida\t\t-5\t\t0.9736842105263158\t-4.868421052631579\n",
            "ganancia\t175\t\t0.02631578947368421\t4.605263157894736\n",
            "Total\t\t-180\t\t1.0\t\t\t-0.2631578947368425\n",
            "Pierde -0.2631578947368425\n"
          ]
        }
      ]
    },
    {
      "cell_type": "markdown",
      "source": [
        "#Ejercicio 2\n",
        "¿Obtendras beneficios al jugar ilimitadamente al dado? si tienes que:\n",
        "6 $4\n",
        "\n",
        "5 $2\n",
        "\n",
        "4 $1\n",
        "\n",
        "3 $0\n",
        "\n",
        "2 $0\n",
        "\n",
        "1 $0"
      ],
      "metadata": {
        "id": "FFYGMKrZsMdh"
      }
    },
    {
      "cell_type": "code",
      "source": [
        "def hope(x,px):\n",
        "  value=0\n",
        "  for i in range(len(px)):\n",
        "    value+=x[i]*px[i]\n",
        "\n",
        "  return value\n",
        "x=(4,2,1,0,0,0)\n",
        "px=(1/6,1/6,1/6,1/6,1/6,1/6)\n",
        "print(f'Esta es la esperanza, por lo que si apuestas 1 pesos, tienes en promedio 0.16667 de ganancia{hope(x,px)}')"
      ],
      "metadata": {
        "colab": {
          "base_uri": "https://localhost:8080/"
        },
        "id": "NJFnGzPqsLfY",
        "outputId": "eb355508-2609-4704-fc1b-c655c398cac7"
      },
      "execution_count": 23,
      "outputs": [
        {
          "output_type": "stream",
          "name": "stdout",
          "text": [
            "0\n",
            "1\n",
            "2\n",
            "3\n",
            "4\n",
            "5\n",
            "Esta es la esperanza, por lo que si apuestas 1 pesos, tienes en promedio 0.16667 de ganancia1.1666666666666667\n"
          ]
        }
      ]
    },
    {
      "cell_type": "markdown",
      "source": [
        "#Ejercicio 3\n",
        "##Seguro de vida\n",
        "Vasu wants to buy a medical insurance plan, but he is confused between plan A and plan B.\n",
        "Plan A: This is a low deductible plan, he will have to pay the first 10,000 rupees of any medical costs. Additionally, to cover the plan, he will have to pay Rs 80,000 per year.\n",
        "Plan B: This is a high deductible plan, he will have to pay the first 25,000 rupees of any medical costs. Additionally, to cover the plan, he will have to pay Rs 60,000 per year.\n",
        "Find the expected cost for both plans and help Vasu decide. A table is given which gives the stats about the probability of these medical expenses.\n",
        "\n",
        ">Medical cost    Probabilitiy\n",
        "\n",
        " >0               30%\n",
        "\n",
        " >10000           25%\n",
        "\n",
        " >40000           20%\n",
        "\n",
        " >70000           20%\n",
        "\n",
        " >150000            5%\n"
      ],
      "metadata": {
        "id": "vQsTK0WXwaHk"
      }
    },
    {
      "cell_type": "code",
      "source": [
        "Medical=(0,10000,40000,70000,150000)\n",
        "Probability=(0.3,0.25,0.2,0.2,0.05)\n",
        "print(f'Plan A: {80000+hope(Medical,Probability)}')\n",
        "print(f'Plan B: {60000+hope(Medical,Probability)}')\n",
        "print(\"El plan B le conviene más\")"
      ],
      "metadata": {
        "colab": {
          "base_uri": "https://localhost:8080/"
        },
        "id": "wWy7C6Aow8vD",
        "outputId": "7703efdf-3ecc-40fc-a74e-ee5de2f92934"
      },
      "execution_count": 31,
      "outputs": [
        {
          "output_type": "stream",
          "name": "stdout",
          "text": [
            "Plan A: 112000.0\n",
            "Plan B: 92000.0\n",
            "El plan B le conviene más\n"
          ]
        }
      ]
    },
    {
      "cell_type": "markdown",
      "source": [
        ">La esperanza nos ayuda a calcular la media de variables inifinitas, por lo que la esperanza nos permite tener un mejor parametro para determinar"
      ],
      "metadata": {
        "id": "xvxpa7Tp85Ez"
      }
    },
    {
      "cell_type": "markdown",
      "source": [
        "#ejercicio 4\n",
        "$f(x,y)=\\frac{1}{4}x(1+3y^2)$, $0<x<2$,$0<y<1$\n",
        "\n",
        "$E(x)=∫∫xf(x,y)dA=\\int^1_0\\int^2_0 \\frac{1}{4}x^2(1+3y^2)dxdy=\\int^1_0\\int^2_0\\frac{x^2}{4}+\\frac{3y^2x^2}{4}dxdy=\\int^1_0(\\int^2_0\\frac{x^2}{4}dx+\\int^2_0\\frac{3y^2x^2}{4}dx)dy=\\int^1_0(\\frac{1}{4}\\int^2_0x^2dx+\\frac{3y^2}{4}\\int^2_0x^2dx)dy=\\int^1_0(\\int^2_0\\frac{x^2}{4}dx+\\int^2_0\\frac{3y^2x^2}{4}dx)dy=\\int^1_0(\\frac{1}{4}*\\frac{x^3}{3}+\\frac{3y^2}{4}*\\frac{x^3}{3}|^2_0)dy=\\int^1_0(\\frac{x^2}{12}+\\frac{3y^2x^2}{12}|^2_0)dy=\\int^1_0(\\frac{x^3}{12}+\\frac{y^2x^3}{4}|^2_0)dy=\\int^1_0([\\frac{2^3}{12}+\\frac{y^2(2)^3}{4}]-[\\frac{0^3}{12}+\\frac{y^2(0)^3}{4}])dy=\\int^1_0(\\frac{2}{3}+2y^2)dy=\\int^1_0(\\frac{2}{3})dy+\\int^1_02y^2dy=\\frac{2}{3}\\int^1_0ydy+2\\int^1_0y^2dy=\\frac{2}{3}*y+2\\frac{y^3}{3}|^1_0=[\\frac{2}{3}*1+2\\frac{1^3}{3}]-[\\frac{0}{3}*1+\\frac{0^3}{3}]=\\frac{4}{3}$\n",
        ">Python ofrece herramientas para resolver integrales multiples"
      ],
      "metadata": {
        "id": "i677yuuk_0UG"
      }
    },
    {
      "cell_type": "code",
      "source": [
        "from sympy import integrate, init_printing\n",
        "from sympy.abc import *\n",
        "Ex=integrate((1/4*(x**2)*(1+3*y**2)),(y,0,1),(x,0,2))\n",
        "Ey=integrate((1/4*(x*y)*(1+3*y**2)),(y,0,1),(x,0,2))\n",
        "Eyx=integrate((1/4*(x**2*y)*(1+3*y**2)),(y,0,1),(x,0,2))\n",
        "print(f'Ex={Ex}\\nEy={Ey}\\nExy={Eyx}')\n",
        "print(f'Ex*Ey=Eyx\\n{Ex*Ey}={Eyx}')"
      ],
      "metadata": {
        "colab": {
          "base_uri": "https://localhost:8080/"
        },
        "id": "GkvZ_Vux_x94",
        "outputId": "24d8b4cc-53e8-4d52-e7d6-27837937287d"
      },
      "execution_count": 12,
      "outputs": [
        {
          "output_type": "stream",
          "name": "stdout",
          "text": [
            "Ex=1.33333333333333\n",
            "Ey=0.625000000000000\n",
            "Exy=0.833333333333333\n",
            "Ex*Ey=Eyx\n",
            "0.833333333333333=0.833333333333333\n"
          ]
        }
      ]
    },
    {
      "cell_type": "markdown",
      "source": [
        ">Se puede inferir que:\n",
        "\n",
        "$E(x)*E(y)=E(x*y) →[∫∫xf(x,y)dA]*[∫∫yf(x,y)dA]=∫∫xyf(x,y)dA$"
      ],
      "metadata": {
        "id": "OqUbuIxjYtzr"
      }
    },
    {
      "cell_type": "markdown",
      "source": [
        "#Ejercicio 5\n",
        ">Use Chebyshev's theorem to find what percent of the values will fall between 123 and 179 for a data set with mean of 151 and standard deviation of 14"
      ],
      "metadata": {
        "id": "0RFHqVIbZmcP"
      }
    },
    {
      "cell_type": "code",
      "source": [
        "def percentvalues(max, min,medium,sd):\n",
        "    dataIntervalpositive=max-medium\n",
        "    dataInvervalNegative=medium-min\n",
        "    sdq=0\n",
        "    if(dataIntervalpositive==dataInvervalNegative):\n",
        "      sdq=dataIntervalpositive/sd\n",
        "    return(chebyschev(sdq))\n",
        "def chebyschev(k):\n",
        "  return 1-1/k**2\n",
        "print(f'The quantity of values that will be inside of the Standard Desviation, would it be: {percentvalues(179,123,151,14)*100} %')"
      ],
      "metadata": {
        "colab": {
          "base_uri": "https://localhost:8080/"
        },
        "id": "I8BbV6sZZlwe",
        "outputId": "5da61960-7793-4ad4-f489-0593750f451d"
      },
      "execution_count": 14,
      "outputs": [
        {
          "output_type": "stream",
          "name": "stdout",
          "text": [
            "The quantity of values that will be inside of the Standard Desviation, would it be: 75.0 %\n"
          ]
        }
      ]
    },
    {
      "cell_type": "markdown",
      "source": [
        "#Ejercicio 6\n",
        "Ejercicio de esperanza\n",
        ">Se saca de una máquina un número al azar entre 1 y 20, donde si se saca un número entr e1 y 7, el jugador pierde 2, si saca un número entre 8 y 18 el jugador gana 1 y si el numero es el 19 o el 20, el jugador gana 3"
      ],
      "metadata": {
        "id": "ZRg5buypeABP"
      }
    },
    {
      "cell_type": "code",
      "source": [
        "px=(7/20,11/20,2/20)\n",
        "x=(-2,1,3)\n",
        "print(f'The hopeness would it be {hope(x,px):0,.3f}')"
      ],
      "metadata": {
        "colab": {
          "base_uri": "https://localhost:8080/"
        },
        "id": "9nOL3i_leDIh",
        "outputId": "c019cee1-6c70-41f8-d79d-da9d20f3d2ff"
      },
      "execution_count": 30,
      "outputs": [
        {
          "output_type": "stream",
          "name": "stdout",
          "text": [
            "0\n",
            "1\n",
            "2\n",
            "The hopeness would it be 0.150\n"
          ]
        }
      ]
    },
    {
      "cell_type": "markdown",
      "source": [
        "#Ejercicio 7\n",
        "Covarianza sin libreria\n",
        "Un estudio reveló la siguiente talba de contingencia para la empresa donde se relacionan las horas de trabajo y la productividad que se tenía en la fábrica  \n",
        "\n",
        "![image.png](data:image/png;base64,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)\n",
        "\n"
      ],
      "metadata": {
        "id": "FS2Y3gibjQ7t"
      }
    },
    {
      "cell_type": "markdown",
      "source": [
        "#Formula covarianza\n",
        "## Variables discretas\n",
        "$$S_{xy}=\\frac{1}{n-1}\\sum_{i=1}^{n}(x_iy_i-n\\bar{x}\\bar{y})$$\n",
        "##Con frecuencias conocidas\n",
        "$$S_{xy}=\\frac{\\sum_{i=1}^{n}(x_iy_in_i)}{n}-(\\frac{\\sum_{i=1}^{n}x_in_i}{n})(\\frac{\\sum_{i=1}^{n}y_in_i}{n})$$"
      ],
      "metadata": {
        "id": "rLZgjXG5z0qh"
      }
    },
    {
      "cell_type": "code",
      "source": [
        "x_i=(6,6,6,8,8,8,10,10,10)\n",
        "y_i=(5,8,10,5,8,10,5,8,10)\n",
        "n_i=(3,5,6,6,10,8,9,12,11)\n",
        "def covarianze(x_i,y_i,n_i):\n",
        "  n=0\n",
        "  sum1=0\n",
        "  sum2=0\n",
        "  sum=0\n",
        "  for i in range(len(n_i)):\n",
        "    n+=n_i[i]\n",
        "  for i in range(len(n_i)):\n",
        "    sum+=(x_i[i]*y_i[i]*n_i[i])/n\n",
        "    sum1+=(x_i[i]*n_i[i])/n\n",
        "    sum2+=(y_i[i]*n_i[i])/n\n",
        "  return sum-(sum1*sum2)\n",
        "print(f'The covariance it is {covarianze(x_i,y_i,n_i):0,.3f}\\It means that meanwhile the hours increase, the productivity decrease, so it is an inverse relation')"
      ],
      "metadata": {
        "colab": {
          "base_uri": "https://localhost:8080/"
        },
        "id": "mnyto-SRjU-V",
        "outputId": "00eec435-0753-41ab-8360-8e22f5594f0e"
      },
      "execution_count": 39,
      "outputs": [
        {
          "output_type": "stream",
          "name": "stdout",
          "text": [
            "The covariance it is -0.199\\It means that meanwhile the hours increase, the productivity decrease, so it is an inverse relation\n"
          ]
        }
      ]
    }
  ]
}